{
 "cells": [
  {
   "cell_type": "markdown",
   "metadata": {},
   "source": [
    "##  $R_{\\phi}$ Gate\n",
    "\n",
    "<div class=\"alert alert-block alert-info\">\n",
    "Bell state is constructed with application of $\\textbf{Hadamard}$ and $\\textbf{CNOT}$ gates in two qubit system.\n",
    "</div>"
   ]
  },
  {
   "cell_type": "code",
   "execution_count": 1,
   "metadata": {},
   "outputs": [],
   "source": [
    "%matplotlib inline\n",
    "import numpy as np\n",
    "import IPython\n",
    "import matplotlib.pyplot as plt\n",
    "from qiskit import QuantumCircuit\n",
    "from qiskit.tools.jupyter import *\n",
    "from qiskit.visualization import *\n",
    "import seaborn as sns\n",
    "sns.set()"
   ]
  },
  {
   "cell_type": "code",
   "execution_count": 2,
   "metadata": {},
   "outputs": [],
   "source": [
    "from helper import *\n",
    "import os\n",
    "import glob\n",
    "import moviepy.editor as mpy"
   ]
  },
  {
   "cell_type": "markdown",
   "metadata": {},
   "source": [
    "#### 1.2 Fun Experiment on single qubit"
   ]
  },
  {
   "cell_type": "code",
   "execution_count": 3,
   "metadata": {},
   "outputs": [],
   "source": [
    "figs = []\n",
    "QCs = []\n",
    "\n",
    "\n",
    "qc_e1 = QuantumCircuit(1)\n",
    "figs.append(getBlochSphere(qc_e1.copy()))\n",
    "QCs.append(qc_e1.copy())\n",
    "\n",
    "\n",
    "qc_e1.h(0)\n",
    "qc_e1.barrier()\n",
    "figs.append(getBlochSphere(qc_e1.copy()))\n",
    "QCs.append(qc_e1.copy())\n",
    "\n",
    "\n",
    "for i in range(10):\n",
    "    qc_e1.rz(np.pi/5, 0)\n",
    "    figs.append(getBlochSphere(qc_e1.copy()))\n",
    "    QCs.append(qc_e1.copy())\n",
    "    \n",
    "qc_e1.barrier()\n",
    "qc_e1.h(0)\n",
    "\n",
    "figs.append(getBlochSphere(qc_e1.copy()))\n",
    "QCs.append(qc_e1.copy())"
   ]
  },
  {
   "cell_type": "code",
   "execution_count": 4,
   "metadata": {},
   "outputs": [
    {
     "data": {
      "image/png": "[encoded data removed]",
      "text/plain": [
       "<Figure size 955.976x84.28 with 1 Axes>"
      ]
     },
     "execution_count": 4,
     "metadata": {},
     "output_type": "execute_result"
    }
   ],
   "source": [
    "style = {'backgroundcolor': 'lavender'}\n",
    "qc_e1.draw(output='mpl', style = style)"
   ]
  },
  {
   "cell_type": "markdown",
   "metadata": {},
   "source": [
    "#### 1.2.1 Get Bloch"
   ]
  },
  {
   "cell_type": "code",
   "execution_count": 5,
   "metadata": {},
   "outputs": [
    {
     "name": "stdout",
     "output_type": "stream",
     "text": [
      "Directory already exist\n"
     ]
    },
    {
     "name": "stderr",
     "output_type": "stream",
     "text": [
      "t:  54%|█████▍    | 7/13 [00:00<00:00, 64.74it/s, now=None]"
     ]
    },
    {
     "name": "stdout",
     "output_type": "stream",
     "text": [
      "MoviePy - Building file plots/bloch1.gif with imageio.\n"
     ]
    },
    {
     "name": "stderr",
     "output_type": "stream",
     "text": [
      "                                                            "
     ]
    },
    {
     "name": "stdout",
     "output_type": "stream",
     "text": [
      "gif file is ready!\n"
     ]
    },
    {
     "name": "stderr",
     "output_type": "stream",
     "text": [
      "\r"
     ]
    }
   ],
   "source": [
    "path = \"plots/bloch1\"\n",
    "fname = \"plots/bloch1\"\n",
    "fps = 5\n",
    "getBlochSequence(path, figs)\n",
    "getBlochGif(figs,path,fname,fps,remove = False)\n",
    "print(\"gif file is ready!\")"
   ]
  },
  {
   "cell_type": "markdown",
   "metadata": {},
   "source": [
    "![img](plots/bloch1.gif)"
   ]
  },
  {
   "cell_type": "markdown",
   "metadata": {},
   "source": [
    "#### 1.2.2 Get Phase"
   ]
  },
  {
   "cell_type": "code",
   "execution_count": 6,
   "metadata": {},
   "outputs": [
    {
     "name": "stdout",
     "output_type": "stream",
     "text": [
      "Directory already exist\n"
     ]
    },
    {
     "name": "stderr",
     "output_type": "stream",
     "text": [
      "t:  46%|████▌     | 6/13 [00:00<00:00, 57.14it/s, now=None]"
     ]
    },
    {
     "name": "stdout",
     "output_type": "stream",
     "text": [
      "MoviePy - Building file plots/phase1.gif with imageio.\n"
     ]
    },
    {
     "name": "stderr",
     "output_type": "stream",
     "text": [
      "                                                            "
     ]
    },
    {
     "name": "stdout",
     "output_type": "stream",
     "text": [
      "gif file is ready!\n"
     ]
    },
    {
     "name": "stderr",
     "output_type": "stream",
     "text": [
      "\r"
     ]
    }
   ],
   "source": [
    "path = \"plots/phase1/\"\n",
    "fname = \"plots/phase1\"\n",
    "fps =5\n",
    "getPhaseSequence(QCs,path)\n",
    "getPhaseGif(path,fname,fps,remove = False)\n",
    "print(\"gif file is ready!\")"
   ]
  },
  {
   "cell_type": "markdown",
   "metadata": {},
   "source": [
    "![img](plots/phase1.gif)"
   ]
  },
  {
   "cell_type": "markdown",
   "metadata": {},
   "source": [
    "#### 2.2 Fun Experiment on two qubit rotation"
   ]
  },
  {
   "cell_type": "code",
   "execution_count": 7,
   "metadata": {},
   "outputs": [],
   "source": [
    "figs = []\n",
    "QCs = []\n",
    "qc_e2 = QuantumCircuit(2)\n",
    "figs.append(getBlochSphere(qc_e2.copy()))\n",
    "QCs.append(qc_e2.copy())\n",
    "qc_e2.h(0)\n",
    "qc_e2.u3(np.pi/4,np.pi/4,0,1)\n",
    "qc_e2.barrier()\n",
    "figs.append(getBlochSphere(qc_e2.copy()))\n",
    "QCs.append(qc_e2.copy())\n",
    "for i in range(8):\n",
    "    qc_e2.rz(np.pi/4, 0) \n",
    "    qc_e2.rz(np.pi/4, 1) \n",
    "    figs.append(getBlochSphere(qc_e2.copy()))\n",
    "    QCs.append(qc_e2.copy())\n",
    "qc_e2.barrier()\n",
    "qc_e2.h(0)\n",
    "qc_e2.u3(-np.pi/4,-np.pi/4,0,1)\n",
    "figs.append(getBlochSphere(qc_e2.copy()))\n",
    "QCs.append(qc_e2.copy())"
   ]
  },
  {
   "cell_type": "code",
   "execution_count": 8,
   "metadata": {},
   "outputs": [
    {
     "data": {
      "image/png": "[encoded data removed]",
      "text/plain": [
       "<Figure size 1020.99x144.48 with 1 Axes>"
      ]
     },
     "execution_count": 8,
     "metadata": {},
     "output_type": "execute_result"
    }
   ],
   "source": [
    "style = {'backgroundcolor': 'lavender'}\n",
    "qc_e2.draw(output='mpl', style = style)"
   ]
  },
  {
   "cell_type": "markdown",
   "metadata": {},
   "source": [
    "#### 2.2.1 Get Bloch"
   ]
  },
  {
   "cell_type": "code",
   "execution_count": 9,
   "metadata": {},
   "outputs": [
    {
     "name": "stdout",
     "output_type": "stream",
     "text": [
      "Directory already exist\n"
     ]
    },
    {
     "name": "stderr",
     "output_type": "stream",
     "text": [
      "t:  45%|████▌     | 5/11 [00:00<00:00, 42.27it/s, now=None]"
     ]
    },
    {
     "name": "stdout",
     "output_type": "stream",
     "text": [
      "MoviePy - Building file plots/bloch2.gif with imageio.\n"
     ]
    },
    {
     "name": "stderr",
     "output_type": "stream",
     "text": [
      "                                                           "
     ]
    },
    {
     "name": "stdout",
     "output_type": "stream",
     "text": [
      "gif file is ready!\n"
     ]
    },
    {
     "name": "stderr",
     "output_type": "stream",
     "text": [
      "\r"
     ]
    }
   ],
   "source": [
    "path = \"plots/bloch2/\"\n",
    "fname = \"plots/bloch2\"\n",
    "fps = 5\n",
    "getBlochSequence(path, figs)\n",
    "getBlochGif(figs,path,fname,fps,remove = False)\n",
    "print(\"gif file is ready!\")"
   ]
  },
  {
   "cell_type": "markdown",
   "metadata": {},
   "source": [
    "![img](plots/bloch2.gif)"
   ]
  },
  {
   "cell_type": "markdown",
   "metadata": {},
   "source": [
    "#### 2.2.2  Get Phase"
   ]
  },
  {
   "cell_type": "code",
   "execution_count": 10,
   "metadata": {},
   "outputs": [
    {
     "name": "stdout",
     "output_type": "stream",
     "text": [
      "Directory already exist\n"
     ]
    },
    {
     "name": "stderr",
     "output_type": "stream",
     "text": [
      "t:  45%|████▌     | 5/11 [00:00<00:00, 39.48it/s, now=None]"
     ]
    },
    {
     "name": "stdout",
     "output_type": "stream",
     "text": [
      "MoviePy - Building file plots/phase2.gif with imageio.\n"
     ]
    },
    {
     "name": "stderr",
     "output_type": "stream",
     "text": [
      "                                                            "
     ]
    },
    {
     "name": "stdout",
     "output_type": "stream",
     "text": [
      "gif file is ready!\n"
     ]
    },
    {
     "name": "stderr",
     "output_type": "stream",
     "text": [
      "\r"
     ]
    }
   ],
   "source": [
    "path = \"plots/phase2/\"\n",
    "fname =  \"plots/phase2\"\n",
    "fps = 5\n",
    "getPhaseSequence(QCs,path)\n",
    "getPhaseGif(path,fname,fps=5,remove = False)\n",
    "print(\"gif file is ready!\")"
   ]
  },
  {
   "cell_type": "markdown",
   "metadata": {},
   "source": [
    "![img](plots/phase2.gif)"
   ]
  },
  {
   "cell_type": "markdown",
   "metadata": {},
   "source": [
    "### 3 qubit"
   ]
  },
  {
   "cell_type": "code",
   "execution_count": 11,
   "metadata": {},
   "outputs": [],
   "source": [
    "figs = []\n",
    "QCs = []\n",
    "qc_e2 = QuantumCircuit(3)\n",
    "figs.append(getBlochSphere(qc_e2.copy()))\n",
    "QCs.append(qc_e2.copy())\n",
    "qc_e2.h(0)\n",
    "qc_e2.h(1)\n",
    "qc_e2.h(2)\n",
    "qc_e2.x(0)\n",
    "qc_e2.y(1)\n",
    "qc_e2.z(2)\n",
    "qc_e2.barrier()\n",
    "figs.append(getBlochSphere(qc_e2.copy()))\n",
    "QCs.append(qc_e2.copy())\n",
    "for i in range(8):\n",
    "    qc_e2.u3(0,0,np.pi/4,0)\n",
    "    qc_e2.u3(np.pi/4,0,0,1) \n",
    "    qc_e2.u3(0,np.pi/4,0,2)\n",
    "    figs.append(getBlochSphere(qc_e2.copy()))\n",
    "    QCs.append(qc_e2.copy())\n",
    "qc_e2.barrier()\n",
    "qc_e2.x(0)\n",
    "qc_e2.y(1)\n",
    "qc_e2.z(2)\n",
    "qc_e2.h(0)\n",
    "qc_e2.h(1)\n",
    "qc_e2.h(2)\n",
    "figs.append(getBlochSphere(qc_e2.copy()))\n",
    "QCs.append(qc_e2.copy())"
   ]
  },
  {
   "cell_type": "code",
   "execution_count": 12,
   "metadata": {},
   "outputs": [
    {
     "data": {
      "image/png": "[encoded data removed]",
      "text/plain": [
       "<Figure size 1502.59x204.68 with 1 Axes>"
      ]
     },
     "execution_count": 12,
     "metadata": {},
     "output_type": "execute_result"
    }
   ],
   "source": [
    "style = {'backgroundcolor': 'lavender'}\n",
    "qc_e2.draw(output='mpl', style = style)"
   ]
  },
  {
   "cell_type": "code",
   "execution_count": 13,
   "metadata": {},
   "outputs": [
    {
     "name": "stdout",
     "output_type": "stream",
     "text": [
      "Directory already exist\n"
     ]
    },
    {
     "name": "stderr",
     "output_type": "stream",
     "text": [
      "t:  36%|███▋      | 4/11 [00:00<00:00, 33.55it/s, now=None]"
     ]
    },
    {
     "name": "stdout",
     "output_type": "stream",
     "text": [
      "MoviePy - Building file plots/bloch3.gif with imageio.\n"
     ]
    },
    {
     "name": "stderr",
     "output_type": "stream",
     "text": [
      "                                                            "
     ]
    },
    {
     "name": "stdout",
     "output_type": "stream",
     "text": [
      "gif file is ready!\n"
     ]
    },
    {
     "name": "stderr",
     "output_type": "stream",
     "text": [
      "\r"
     ]
    }
   ],
   "source": [
    "path = \"plots/bloch3/\"\n",
    "fname = \"plots/bloch3\"\n",
    "fps = 5\n",
    "getBlochSequence(path, figs)\n",
    "getBlochGif(figs,path,fname,fps,remove = False)\n",
    "print(\"gif file is ready!\")"
   ]
  },
  {
   "cell_type": "markdown",
   "metadata": {},
   "source": [
    "![img](plots/bloch3.gif)"
   ]
  },
  {
   "cell_type": "code",
   "execution_count": 14,
   "metadata": {},
   "outputs": [
    {
     "name": "stdout",
     "output_type": "stream",
     "text": [
      "Directory already exist\n"
     ]
    },
    {
     "name": "stderr",
     "output_type": "stream",
     "text": [
      "t:  27%|██▋       | 3/11 [00:00<00:00, 26.43it/s, now=None]"
     ]
    },
    {
     "name": "stdout",
     "output_type": "stream",
     "text": [
      "MoviePy - Building file plots/phase3.gif with imageio.\n"
     ]
    },
    {
     "name": "stderr",
     "output_type": "stream",
     "text": [
      "                                                            "
     ]
    },
    {
     "name": "stdout",
     "output_type": "stream",
     "text": [
      "gif file is ready!\n"
     ]
    },
    {
     "name": "stderr",
     "output_type": "stream",
     "text": [
      "\r"
     ]
    }
   ],
   "source": [
    "path = \"plots/phase3/\"\n",
    "fname =  \"plots/phase3\"\n",
    "fps = 5\n",
    "getPhaseSequence(QCs,path)\n",
    "getPhaseGif(path,fname,fps=5,remove = False)\n",
    "print(\"gif file is ready!\")"
   ]
  },
  {
   "cell_type": "markdown",
   "metadata": {},
   "source": [
    "![img](plots/phase3.gif)"
   ]
  },
  {
   "cell_type": "markdown",
   "metadata": {},
   "source": [
    "### 4 Qubits"
   ]
  },
  {
   "cell_type": "code",
   "execution_count": 15,
   "metadata": {},
   "outputs": [],
   "source": [
    "figs = []\n",
    "QCs = []\n",
    "qc_e2 = QuantumCircuit(4)\n",
    "figs.append(getBlochSphere(qc_e2.copy()))\n",
    "QCs.append(qc_e2.copy())\n",
    "qc_e2.h(0)\n",
    "qc_e2.h(1)\n",
    "qc_e2.h(2)\n",
    "qc_e2.h(3)\n",
    "qc_e2.x(0)\n",
    "qc_e2.y(1)\n",
    "qc_e2.z(2)\n",
    "qc_e2.x(3)\n",
    "qc_e2.barrier()\n",
    "figs.append(getBlochSphere(qc_e2.copy()))\n",
    "QCs.append(qc_e2.copy())\n",
    "for i in range(8):\n",
    "    qc_e2.u3(0,0,np.pi/4,0)\n",
    "    qc_e2.u3(np.pi/4,0,0,1) \n",
    "    qc_e2.u3(0,np.pi/4,0,2)\n",
    "    qc_e2.rz(np.pi/4, 3) \n",
    "    figs.append(getBlochSphere(qc_e2.copy()))\n",
    "    QCs.append(qc_e2.copy())\n",
    "qc_e2.barrier()\n",
    "qc_e2.x(0)\n",
    "qc_e2.y(1)\n",
    "qc_e2.z(2)\n",
    "qc_e2.x(3)\n",
    "qc_e2.h(0)\n",
    "qc_e2.h(1)\n",
    "qc_e2.h(2)\n",
    "qc_e2.h(3)\n",
    "figs.append(getBlochSphere(qc_e2.copy()))\n",
    "QCs.append(qc_e2.copy())"
   ]
  },
  {
   "cell_type": "code",
   "execution_count": 16,
   "metadata": {},
   "outputs": [
    {
     "data": {
      "image/png": "[encoded data removed]",
      "text/plain": [
       "<Figure size 1502.59x264.88 with 1 Axes>"
      ]
     },
     "execution_count": 16,
     "metadata": {},
     "output_type": "execute_result"
    }
   ],
   "source": [
    "style = {'backgroundcolor': 'lavender'}\n",
    "qc_e2.draw(output='mpl', style = style)"
   ]
  },
  {
   "cell_type": "code",
   "execution_count": 17,
   "metadata": {},
   "outputs": [
    {
     "name": "stdout",
     "output_type": "stream",
     "text": [
      "Directory already exist\n"
     ]
    },
    {
     "name": "stderr",
     "output_type": "stream",
     "text": [
      "t:  27%|██▋       | 3/11 [00:00<00:00, 28.33it/s, now=None]"
     ]
    },
    {
     "name": "stdout",
     "output_type": "stream",
     "text": [
      "MoviePy - Building file plots/bloch4.gif with imageio.\n"
     ]
    },
    {
     "name": "stderr",
     "output_type": "stream",
     "text": [
      "                                                            "
     ]
    },
    {
     "name": "stdout",
     "output_type": "stream",
     "text": [
      "gif file is ready!\n"
     ]
    },
    {
     "name": "stderr",
     "output_type": "stream",
     "text": [
      "\r"
     ]
    }
   ],
   "source": [
    "path = \"plots/bloch4/\"\n",
    "fname = \"plots/bloch4\"\n",
    "fps = 5\n",
    "getBlochSequence(path, figs)\n",
    "getBlochGif(figs,path,fname,fps,remove = False)\n",
    "print(\"gif file is ready!\")"
   ]
  },
  {
   "cell_type": "code",
   "execution_count": 18,
   "metadata": {},
   "outputs": [
    {
     "name": "stdout",
     "output_type": "stream",
     "text": [
      "Directory already exist\n"
     ]
    },
    {
     "name": "stderr",
     "output_type": "stream",
     "text": [
      "t:  18%|█▊        | 2/11 [00:00<00:00, 18.83it/s, now=None]"
     ]
    },
    {
     "name": "stdout",
     "output_type": "stream",
     "text": [
      "MoviePy - Building file plots/phase4.gif with imageio.\n"
     ]
    },
    {
     "name": "stderr",
     "output_type": "stream",
     "text": [
      "                                                            "
     ]
    },
    {
     "name": "stdout",
     "output_type": "stream",
     "text": [
      "gif file is ready!\n"
     ]
    },
    {
     "name": "stderr",
     "output_type": "stream",
     "text": [
      "\r"
     ]
    }
   ],
   "source": [
    "path = \"plots/phase4/\"\n",
    "fname =  \"plots/phase4\"\n",
    "fps = 5\n",
    "getPhaseSequence(QCs,path,rotated=True)\n",
    "#getPhaseSequence(QCs,path)\n",
    "getPhaseGif(path,fname,fps=5,remove = False)\n",
    "print(\"gif file is ready!\")"
   ]
  },
  {
   "cell_type": "markdown",
   "metadata": {},
   "source": [
    "### QFT"
   ]
  },
  {
   "cell_type": "code",
   "execution_count": 19,
   "metadata": {},
   "outputs": [],
   "source": [
    "figs = []\n",
    "QCs = []\n",
    "n = 3\n",
    "q = QuantumRegister(n)\n",
    "c = ClassicalRegister(n)\n",
    "qc = QuantumCircuit(q,c)\n",
    "figs.append(getBlochSphere(qc.copy()))\n",
    "QCs.append(qc.copy())\n",
    "\n",
    "\n",
    "qc.h(q[2])\n",
    "qc.barrier()\n",
    "figs.append(getBlochSphere(qc.copy()))\n",
    "QCs.append(qc.copy())\n",
    "\n",
    "\n",
    "qc.cu1(np.pi/2, q[1], q[2])\n",
    "qc.barrier()\n",
    "figs.append(getBlochSphere(qc.copy()))\n",
    "QCs.append(qc.copy())\n",
    "\n",
    "qc.h(q[1])\n",
    "qc.barrier()\n",
    "figs.append(getBlochSphere(qc.copy()))\n",
    "QCs.append(qc.copy())\n",
    "\n",
    "\n",
    "qc.cu1(np.pi/4, q[0], q[2])\n",
    "qc.barrier()\n",
    "figs.append(getBlochSphere(qc.copy()))\n",
    "QCs.append(qc.copy())\n",
    "\n",
    "\n",
    "qc.cu1(np.pi/2, q[0], q[1])\n",
    "qc.barrier()\n",
    "figs.append(getBlochSphere(qc.copy()))\n",
    "QCs.append(qc.copy())\n",
    "\n",
    "\n",
    "qc.h(q[0])\n",
    "qc.barrier()\n",
    "figs.append(getBlochSphere(qc.copy()))\n",
    "QCs.append(qc.copy())\n",
    "\n",
    "\n",
    "qc.swap(q[0], q[2])\n",
    "figs.append(getBlochSphere(qc.copy()))\n",
    "QCs.append(qc.copy())\n"
   ]
  },
  {
   "cell_type": "code",
   "execution_count": 20,
   "metadata": {},
   "outputs": [
    {
     "name": "stdout",
     "output_type": "stream",
     "text": [
      "Directory already exist\n"
     ]
    },
    {
     "name": "stderr",
     "output_type": "stream",
     "text": [
      "t:  50%|█████     | 4/8 [00:00<00:00, 31.98it/s, now=None]"
     ]
    },
    {
     "name": "stdout",
     "output_type": "stream",
     "text": [
      "MoviePy - Building file plots/qftb.gif with imageio.\n"
     ]
    },
    {
     "name": "stderr",
     "output_type": "stream",
     "text": [
      "                                                          "
     ]
    },
    {
     "name": "stdout",
     "output_type": "stream",
     "text": [
      "gif file is ready!\n"
     ]
    },
    {
     "name": "stderr",
     "output_type": "stream",
     "text": [
      "\r"
     ]
    }
   ],
   "source": [
    "path = \"plots/qftb/\"\n",
    "fname = \"plots/qftb\"\n",
    "fps = 5\n",
    "getBlochSequence(path, figs)\n",
    "getBlochGif(figs,path,fname,fps,remove = False)\n",
    "print(\"gif file is ready!\")"
   ]
  },
  {
   "cell_type": "code",
   "execution_count": 21,
   "metadata": {},
   "outputs": [
    {
     "name": "stdout",
     "output_type": "stream",
     "text": [
      "Directory already exist\n"
     ]
    },
    {
     "name": "stderr",
     "output_type": "stream",
     "text": [
      "t:  50%|█████     | 4/8 [00:00<00:00, 30.83it/s, now=None]"
     ]
    },
    {
     "name": "stdout",
     "output_type": "stream",
     "text": [
      "MoviePy - Building file plots/qftp.gif with imageio.\n"
     ]
    },
    {
     "name": "stderr",
     "output_type": "stream",
     "text": [
      "                                                          "
     ]
    },
    {
     "name": "stdout",
     "output_type": "stream",
     "text": [
      "gif file is ready!\n"
     ]
    },
    {
     "name": "stderr",
     "output_type": "stream",
     "text": [
      "\r"
     ]
    }
   ],
   "source": [
    "path = \"plots/qftp/\"\n",
    "fname =  \"plots/qftp\"\n",
    "fps = 5\n",
    "getPhaseSequence(QCs,path,rotated=True)\n",
    "#getPhaseSequence(QCs,path)\n",
    "getPhaseGif(path,fname,fps=5,remove = False)\n",
    "print(\"gif file is ready!\")"
   ]
  },
  {
   "cell_type": "code",
   "execution_count": null,
   "metadata": {},
   "outputs": [],
   "source": []
  },
  {
   "cell_type": "code",
   "execution_count": null,
   "metadata": {},
   "outputs": [],
   "source": []
  },
  {
   "cell_type": "code",
   "execution_count": null,
   "metadata": {},
   "outputs": [],
   "source": []
  },
  {
   "cell_type": "code",
   "execution_count": null,
   "metadata": {},
   "outputs": [],
   "source": []
  }
 ],
 "metadata": {
  "kernelspec": {
   "display_name": "Python 3",
   "language": "python",
   "name": "python3"
  },
  "language_info": {
   "codemirror_mode": {
    "name": "ipython",
    "version": 3
   },
   "file_extension": ".py",
   "mimetype": "text/x-python",
   "name": "python",
   "nbconvert_exporter": "python",
   "pygments_lexer": "ipython3",
   "version": "3.7.6"
  }
 },
 "nbformat": 4,
 "nbformat_minor": 2
}
